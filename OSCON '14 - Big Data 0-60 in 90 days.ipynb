{
 "metadata": {
  "celltoolbar": "Slideshow",
  "name": "",
  "signature": "sha256:a1a0c9629c1859b6c6fedeffaade699a046f9df4722edf0a4d75da9abbc1781d"
 },
 "nbformat": 3,
 "nbformat_minor": 0,
 "worksheets": [
  {
   "cells": [
    {
     "cell_type": "heading",
     "level": 1,
     "metadata": {
      "slideshow": {
       "slide_type": "slide"
      }
     },
     "source": [
      "<h2 align=\"center\">OSCON '14</h2>\n",
      "<h1 align=\"center\">Big Data Analysis 0-60 in 90 days</h1>\n",
      "<p>\n",
      "<h3 align=\"center\">Chad Naber, David Elfi</h3>\n",
      "<b><center>[chad.a.naber|david.r.elfi]@intel.com</center></b>"
     ]
    },
    {
     "cell_type": "markdown",
     "metadata": {
      "slideshow": {
       "slide_type": "slide"
      }
     },
     "source": [
      "<center>\n",
      "<img align=\"center\" src=\"assets/pics/travel_suitcase_1.png\">\n",
      "<b>This is about our journey in Big Data</b>\n",
      "</center>"
     ]
    },
    {
     "cell_type": "markdown",
     "metadata": {
      "slideshow": {
       "slide_type": "slide"
      }
     },
     "source": [
      "<center>\n",
      "<img src=\"assets/pics/long_trip.jpg\">\n",
      "<b>Seemed very loooong journey, but it endeed up been not so long</b>\n",
      "</center>"
     ]
    },
    {
     "cell_type": "markdown",
     "metadata": {
      "slideshow": {
       "slide_type": "slide"
      }
     },
     "source": [
      "<h2>Destinations</h2>"
     ]
    },
    {
     "cell_type": "markdown",
     "metadata": {
      "slideshow": {
       "slide_type": "fragment"
      }
     },
     "source": [
      "* Do we have a problem? Clearly define the question to address"
     ]
    },
    {
     "cell_type": "markdown",
     "metadata": {
      "slideshow": {
       "slide_type": "fragment"
      }
     },
     "source": [
      "* What type of data? Structured vs semistructured vs unstructured"
     ]
    },
    {
     "cell_type": "markdown",
     "metadata": {
      "slideshow": {
       "slide_type": "fragment"
      }
     },
     "source": [
      "* How to process all the data? Hadoop!"
     ]
    },
    {
     "cell_type": "markdown",
     "metadata": {
      "slideshow": {
       "slide_type": "fragment"
      }
     },
     "source": [
      "* Semantic understanding. What does data mean? Work on a data subset"
     ]
    },
    {
     "cell_type": "markdown",
     "metadata": {
      "slideshow": {
       "slide_type": "fragment"
      }
     },
     "source": [
      "* Implement the model. Is this the best answer?"
     ]
    },
    {
     "cell_type": "markdown",
     "metadata": {
      "slideshow": {
       "slide_type": "slide"
      }
     },
     "source": [
      "\n",
      "<h2>Day 0 - Business Question</h2>\n",
      "\n",
      "<p>\n",
      "Journey started with a business focus in:\n",
      "\n",
      "<center><b><font size=120%>Internet of Things</font></b></center>\n",
      "\n",
      "</p>\n"
     ]
    },
    {
     "cell_type": "markdown",
     "metadata": {
      "slideshow": {
       "slide_type": "fragment"
      }
     },
     "source": [
      "<p>Question:\n",
      "\n",
      "<blockquote>Can we identify if an earthquake is happening based on accelerometer and gyroscope sensors?</blockquote>"
     ]
    },
    {
     "cell_type": "markdown",
     "metadata": {
      "slideshow": {
       "slide_type": "slide"
      }
     },
     "source": [
      "<h2>Day 5 - Data</h2> \n",
      "\n",
      "Understanding the data"
     ]
    },
    {
     "cell_type": "markdown",
     "metadata": {
      "slideshow": {
       "slide_type": "fragment"
      }
     },
     "source": [
      "* Unstructured: No consistent pattern to retrieve specific information\n",
      "    * General case: language processing"
     ]
    },
    {
     "cell_type": "markdown",
     "metadata": {
      "slideshow": {
       "slide_type": "fragment"
      }
     },
     "source": [
      "* Semistructured: Part of the data set contains a consistent pattern for retrieving the data required\n",
      "    * General case: different data formats without a predefined model. "
     ]
    },
    {
     "cell_type": "markdown",
     "metadata": {
      "slideshow": {
       "slide_type": "fragment"
      }
     },
     "source": [
      "* Structured: Data set contains a well known data model\n",
      "    * General case: Data import from a legacy system or using a specific standard"
     ]
    },
    {
     "cell_type": "markdown",
     "metadata": {
      "slideshow": {
       "slide_type": "slide"
      }
     },
     "source": [
      "<pre><code json>{\n",
      "      \"timestamp\": \"2014-02-06T15:03:46.9265437Z\", \n",
      "      \"dataTrusted\": true, \n",
      "      \"type\": \"AccelGyro\", \n",
      "      \"data\": {\n",
      "         \"accel_z\": 12305, \n",
      "         \"accel_x\": -564, \n",
      "         \"accel_y\": -12089, \n",
      "         \"gyro_z\": 90, \n",
      "         \"gyro_x\": -46, \n",
      "         \"gyro_y\": -397\n",
      "      }, \n",
      "      \"sensorAddress\": \"001208272118\"\n",
      "}</code></pre>"
     ]
    },
    {
     "cell_type": "markdown",
     "metadata": {
      "slideshow": {
       "slide_type": "slide"
      }
     },
     "source": [
      "<h2>Our data is semistructured: how can we get the schema?</h2>\n"
     ]
    },
    {
     "cell_type": "markdown",
     "metadata": {
      "slideshow": {
       "slide_type": "fragment"
      }
     },
     "source": [
      "<h3>Schema-on-write</h3>\n",
      "    Schema defined previous to write data"
     ]
    },
    {
     "cell_type": "markdown",
     "metadata": {
      "slideshow": {
       "slide_type": "fragment"
      }
     },
     "source": [
      "<h3>Schema-on-read</h3>\n",
      "    Write anything. Schema defined when data is read"
     ]
    },
    {
     "cell_type": "markdown",
     "metadata": {
      "slideshow": {
       "slide_type": "slide"
      }
     },
     "source": [
      "<h2>Day 15 - Big Data!</h2>\n",
      "* Using Map/Reduce for Extracting data.\n",
      "    * Why Big Data? really?"
     ]
    },
    {
     "cell_type": "markdown",
     "metadata": {
      "slideshow": {
       "slide_type": "notes"
      }
     },
     "source": [
      "Question to the audience:\n",
      "How much data do you think we should deal with?\n"
     ]
    },
    {
     "cell_type": "markdown",
     "metadata": {
      "slideshow": {
       "slide_type": "fragment"
      }
     },
     "source": [
      "* Map/Reduce\n",
      "<center><img src=\"assets/pics/map-reduce.gif\"></center>"
     ]
    },
    {
     "cell_type": "markdown",
     "metadata": {
      "slideshow": {
       "slide_type": "slide"
      }
     },
     "source": [
      "<h2>Right Moment to setup Big Data Technology</h2>\n",
      "\n",
      "Loading data and Extracting useful information\n",
      "\n",
      "<center><h1>Hadoop</h1></center>\n",
      "\n",
      "<center><h1>Spark</h1></center>\n",
      "\n",
      "<center><h1>Shark</h1></center>\n",
      "\n"
     ]
    },
    {
     "cell_type": "markdown",
     "metadata": {
      "slideshow": {
       "slide_type": "notes"
      }
     },
     "source": [
      "Comment about the benefits of using Spark with BlinkDB\n",
      "\n",
      "Note: Although we are going to show working prototype in AWS, this is not a promotional talk about it. It is a way of simplifying the installation."
     ]
    },
    {
     "cell_type": "markdown",
     "metadata": {
      "slideshow": {
       "slide_type": "slide"
      }
     },
     "source": [
      "<h2>Day 30 - Data Preparation</h2>\n"
     ]
    },
    {
     "cell_type": "markdown",
     "metadata": {
      "slideshow": {
       "slide_type": "fragment"
      }
     },
     "source": [
      "<h3>Data understanding - First Stage</h3>\n",
      "\n",
      "* Data Profiling\n",
      "    * Nulls/Types identification\n",
      "    * Maximum\n",
      "    * Minimum\n",
      "    * Average\n",
      "    * Standard Deviation\n"
     ]
    },
    {
     "cell_type": "markdown",
     "metadata": {
      "slideshow": {
       "slide_type": "slide"
      }
     },
     "source": [
      "<h2>Cleaning the data</h2>\n",
      "\n",
      "<h3>Quality Rules</h3>"
     ]
    },
    {
     "cell_type": "markdown",
     "metadata": {
      "slideshow": {
       "slide_type": "fragment"
      }
     },
     "source": [
      "* Remove/transform nulls\n",
      "* Typefy: precision, UTF8, rounding\n",
      "* Flag bad data"
     ]
    },
    {
     "cell_type": "markdown",
     "metadata": {
      "slideshow": {
       "slide_type": "fragment"
      }
     },
     "source": [
      "<center><h3>Garbage in, Garbage out!</h3></center>"
     ]
    },
    {
     "cell_type": "markdown",
     "metadata": {
      "slideshow": {
       "slide_type": "slide"
      }
     },
     "source": [
      "<h2>Day 45 - Visualization</h2>\n",
      "\n",
      "<p>How does data look like?</p>"
     ]
    },
    {
     "cell_type": "markdown",
     "metadata": {
      "slideshow": {
       "slide_type": "fragment"
      }
     },
     "source": [
      "<p></p>\n",
      "<p></p>\n",
      "<center><b>Take a representative data subset and play with it</b></center>"
     ]
    },
    {
     "cell_type": "markdown",
     "metadata": {
      "slideshow": {
       "slide_type": "slide"
      }
     },
     "source": [
      "<h2>Python Framework</h2>\n",
      "\n",
      "* IPython Notebook\n",
      "* Numpy\n",
      "* Matplotlib\n",
      "* scikit-learn and/or Pandas"
     ]
    },
    {
     "cell_type": "code",
     "collapsed": false,
     "input": [
      "%matplotlib inline\n",
      "\n",
      "import csv\n",
      "from datetime import datetime as dt\n",
      "import numpy as np\n",
      "from mpl_toolkits.mplot3d import Axes3D\n",
      "from matplotlib import pyplot as plt\n",
      "\n",
      "buff = []\n",
      "\n",
      "f = open(\"assets/data/02_sample_data.csv\")\n",
      "creader = csv.reader(f)\n",
      "\n",
      "for i in creader:\n",
      "    try:\n",
      "        i[2] = np.datetime64(i[2])\n",
      "    except:\n",
      "        pass\n",
      "    buff.append(tuple(i))\n",
      "    \n",
      "data = buff[1:]\n",
      "header = buff[0]\n",
      "types = ['S10','S9','datetime64[ns]',int,int,int,int,int,int,bool,int,int]\n",
      "    \n",
      "datanp = np.array(data,dtype=zip(header,types))\n",
      "\n",
      "\n",
      "# Identify all points in move state\n",
      "datanp_move = datanp[(datanp[\"moving\"] == 1)]\n",
      "# Identify all points in earthquake state\n",
      "datanp_earthquake = datanp[ datanp[\"earthquake\"] == 1 ]\n",
      "\n",
      "datanp_st = datanp[(datanp[\"earthquake\"] == 0) & (datanp[\"moving\"] == 0)]\n",
      "\n",
      "accel_x_move = np.array([x[\"accel_x\"] for x in datanp_move])\n",
      "accel_y_move = np.array([x[\"accel_y\"] for x in datanp_move])\n",
      "accel_z_move = np.array([x[\"accel_z\"] for x in datanp_move])\n",
      "accel_x_eq = np.array([x[\"accel_x\"] for x in datanp_earthquake])\n",
      "accel_y_eq = np.array([x[\"accel_y\"] for x in datanp_earthquake])\n",
      "accel_z_eq = np.array([x[\"accel_z\"] for x in datanp_earthquake])\n",
      "accel_x = np.array([x[\"accel_x\"] for x in datanp_st])\n",
      "accel_y = np.array([x[\"accel_y\"] for x in datanp_st])\n",
      "accel_z = np.array([x[\"accel_z\"] for x in datanp_st])\n"
     ],
     "language": "python",
     "metadata": {
      "slideshow": {
       "slide_type": "skip"
      }
     },
     "outputs": [],
     "prompt_number": 1
    },
    {
     "cell_type": "code",
     "collapsed": false,
     "input": [
      "fig = plt.figure(figsize=(7,7))\n",
      "fig.suptitle(\"Accelerometer representation in the space\")\n",
      "ax = fig.gca(projection='3d')\n",
      "ax.plot(accel_x, accel_y, accel_z, \"or\")\n",
      "ax.plot(accel_x_eq, accel_y_eq, accel_z_eq, \"og\")\n",
      "ax.plot(accel_x_move, accel_y_move, accel_z_move, \"ob\")"
     ],
     "language": "python",
     "metadata": {
      "slideshow": {
       "slide_type": "slide"
      }
     },
     "outputs": [
      {
       "metadata": {},
       "output_type": "pyout",
       "prompt_number": 2,
       "text": [
        "[<mpl_toolkits.mplot3d.art3d.Line3D at 0x40d4f10>]"
       ]
      },
      {
       "metadata": {},
       "output_type": "display_data",
       "png": "[encoded data removed]",
       "text": [
        "<matplotlib.figure.Figure at 0x2d544d0>"
       ]
      }
     ],
     "prompt_number": 2
    },
    {
     "cell_type": "markdown",
     "metadata": {
      "slideshow": {
       "slide_type": "fragment"
      }
     },
     "source": [
      "<h2 align=\"center\">Any conclusion?</h2>"
     ]
    },
    {
     "cell_type": "markdown",
     "metadata": {
      "slideshow": {
       "slide_type": "slide"
      }
     },
     "source": [
      "<h2>Feature identification</h2>\n",
      "\n",
      "<p>Key for data analysis: <em>identify which are the values representing the problem</em></p>\n"
     ]
    },
    {
     "cell_type": "markdown",
     "metadata": {
      "slideshow": {
       "slide_type": "fragment"
      }
     },
     "source": [
      "<blockquote>Calculate the euclidean distance for each point against the previous one.</blockquote>"
     ]
    },
    {
     "cell_type": "code",
     "collapsed": false,
     "input": [
      "# Data preparation - Calculate Euclidean distance\n",
      "from itertools import chain, tee, izip\n",
      "\n",
      "# Sort the points according to time\n",
      "datanp.sort( order = \"timestamp\" )\n",
      "\n",
      "prevs,vals = tee(datanp,2)\n",
      "prevs = chain([None],prevs)\n",
      "\n",
      "eu_dist_accel=[]\n",
      "eu_dist_gyro=[]\n",
      "for p,v in izip(prevs,vals):\n",
      "    if p != None:\n",
      "        accel_point = np.array((v[\"accel_x\"],v[\"accel_y\"], v[\"accel_z\"]))\n",
      "        accel_point_p = np.array((p[\"accel_x\"],p[\"accel_y\"], p[\"accel_z\"]))\n",
      "        gyro_point = np.array((v[\"gyro_x\"],v[\"gyro_y\"], v[\"gyro_z\"]))\n",
      "        gyro_point_p = np.array((p[\"gyro_x\"],p[\"gyro_y\"], p[\"gyro_z\"]))\n",
      "        \n",
      "        eu_dist_accel.append([v[\"timestamp\"],np.linalg.norm(accel_point - accel_point_p),v[\"earthquake\"], v[\"moving\"]])\n",
      "        eu_dist_gyro.append([v[\"timestamp\"],np.linalg.norm(gyro_point- gyro_point_p),v[\"earthquake\"], v[\"moving\"]])\n",
      "    else:\n",
      "        eu_dist_accel.append([v[\"timestamp\"],0,v[\"earthquake\"], v[\"moving\"]])\n",
      "        eu_dist_gyro.append([v[\"timestamp\"],0,v[\"earthquake\"], v[\"moving\"]])\n",
      "\n",
      "eu_dist_accel = np.array(eu_dist_accel)\n",
      "eu_dist_gyro = np.array(eu_dist_gyro)\n",
      "eu_dist_accel_rest = eu_dist_accel[ (eu_dist_accel[:,2] == 0)&(eu_dist_accel[:,3] == 0)][:,1]\n",
      "eu_dist_gyro_rest = eu_dist_gyro[ (eu_dist_gyro[:,2] == 0)&(eu_dist_gyro[:,3] == 0)][:,1]\n",
      "eu_dist_accel_move = eu_dist_accel[ eu_dist_accel[:,3] == 1 ][:,1]\n",
      "eu_dist_gyro_move = eu_dist_gyro[ eu_dist_gyro[:,3] == 1 ][:,1]\n",
      "eu_dist_accel_eq = eu_dist_accel[ eu_dist_accel[:,2] == 1 ][:,1]\n",
      "eu_dist_gyro_eq = eu_dist_gyro[ eu_dist_gyro[:,2] == 1 ][:,1]\n",
      "        "
     ],
     "language": "python",
     "metadata": {
      "slideshow": {
       "slide_type": "skip"
      }
     },
     "outputs": [],
     "prompt_number": 3
    },
    {
     "cell_type": "code",
     "collapsed": false,
     "input": [
      "\n",
      "fig,((ax1,ax2)) = plt.subplots(ncols=2, nrows=1, figsize=(15,5))\n",
      "ax1.plot(eu_dist_accel_rest, \"ro\")\n",
      "ax1.plot(eu_dist_accel_eq, \"go\")\n",
      "ax1.plot(eu_dist_accel_move, \"bo\")\n",
      "ax1.set_title(\"Euclidean Distance for Accelerometer\")\n",
      "ax2.plot(eu_dist_gyro_rest, \"ro\")\n",
      "ax2.plot(eu_dist_gyro_eq, \"go\")\n",
      "ax2.plot(eu_dist_gyro_move, \"bo\")\n",
      "ax2.set_title(\"Euclidean Distance for Gyroscope\")\n",
      "plt.tight_layout()"
     ],
     "language": "python",
     "metadata": {
      "slideshow": {
       "slide_type": "slide"
      }
     },
     "outputs": [
      {
       "metadata": {},
       "output_type": "display_data",
       "png": "[encoded data removed]",
       "text": [
        "<matplotlib.figure.Figure at 0x2d4fbd0>"
       ]
      }
     ],
     "prompt_number": 4
    },
    {
     "cell_type": "markdown",
     "metadata": {
      "slideshow": {
       "slide_type": "slide"
      }
     },
     "source": [
      "<h2>Solving our problem: Pattern identification</h2>\n"
     ]
    },
    {
     "cell_type": "markdown",
     "metadata": {
      "slideshow": {
       "slide_type": "notes"
      }
     },
     "source": [
      "In order to resolve our problem, we are going to look for a pattern which can let us know if an earthquake is happening based on the points behavior in a given period of time."
     ]
    },
    {
     "cell_type": "markdown",
     "metadata": {
      "slideshow": {
       "slide_type": "fragment"
      }
     },
     "source": [
      "<h3>Machine Learning</h3>\n",
      "\n",
      "Supervised:\n",
      "* Classification methods: Decision Trees, Bayesian\n",
      "* Regression methods: Linear, Logical\n",
      "* Neural Networks\n",
      "\n",
      "\n",
      "Unsupervised:\n",
      "* Clustering\n"
     ]
    },
    {
     "cell_type": "markdown",
     "metadata": {
      "slideshow": {
       "slide_type": "fragment"
      }
     },
     "source": [
      "<h3 align=\"center\">Takes time to understand. Look for experts!</h3>"
     ]
    },
    {
     "cell_type": "markdown",
     "metadata": {
      "slideshow": {
       "slide_type": "fragment"
      }
     },
     "source": [
      "<h3 align=\"center\">Experts = Data Scientists</h3>"
     ]
    },
    {
     "cell_type": "markdown",
     "metadata": {
      "slideshow": {
       "slide_type": "slide"
      }
     },
     "source": [
      "<h2>Day 70 - Development</h2>\n",
      "\n",
      "<h3>Purpose</h3>\n",
      "\n",
      "<ul>\n",
      "    <li>Train the model with historic data</li>\n",
      "    <li>Apply the model over historic data</li>\n",
      "</ul>"
     ]
    },
    {
     "cell_type": "raw",
     "metadata": {
      "slideshow": {
       "slide_type": "fragment"
      }
     },
     "source": []
    },
    {
     "cell_type": "markdown",
     "metadata": {
      "slideshow": {
       "slide_type": "notes"
      }
     },
     "source": [
      "Ask audience:\n",
      "Does anybody know how data scientists are going to give us the model?"
     ]
    },
    {
     "cell_type": "markdown",
     "metadata": {
      "slideshow": {
       "slide_type": "slide"
      }
     },
     "source": [
      "<h2>Example Models</h2>\n",
      "\n",
      "* Linear Regression model (<a href=\"http://en.wikipedia.org/wiki/Regression_analysis\">ref</a>):"
     ]
    },
    {
     "cell_type": "code",
     "collapsed": false,
     "input": [
      "from IPython.display import Math\n",
      "Math(r'y_i = \\beta_0 + \\beta_1 x_{i1} + \\beta_2 x_{i2} + ... + \\beta_p x_{ip} + \\varepsilon_i, i = 1, 2, ..., n')"
     ],
     "language": "python",
     "metadata": {
      "slideshow": {
       "slide_type": "fragment"
      }
     },
     "outputs": [
      {
       "latex": [
        "$$y_i = \\beta_0 + \\beta_1 x_{i1} + \\beta_2 x_{i2} + ... + \\beta_p x_{ip} + \\varepsilon_i, i = 1, 2, ..., n$$"
       ],
       "metadata": {},
       "output_type": "pyout",
       "prompt_number": 5,
       "text": [
        "<IPython.core.display.Math at 0x46b9e50>"
       ]
      }
     ],
     "prompt_number": 5
    },
    {
     "cell_type": "markdown",
     "metadata": {
      "slideshow": {
       "slide_type": "fragment"
      }
     },
     "source": [
      "* Classification using Graphs\n",
      "* Decision Trees"
     ]
    },
    {
     "cell_type": "markdown",
     "metadata": {
      "slideshow": {
       "slide_type": "notes"
      }
     },
     "source": [
      "These are simple models, but data scientists can come up with complicated and variances of these models."
     ]
    },
    {
     "cell_type": "code",
     "collapsed": false,
     "input": [
      "# Prepare the data for training the model. All the rest and move states are safe\n",
      "# Eu_dist_accel and gyro are sorted, so we can just add them\n",
      "data_features = np.array(zip(eu_dist_accel_rest, eu_dist_gyro_rest) + zip(eu_dist_accel_move, eu_dist_gyro_move) + zip(eu_dist_accel_eq, eu_dist_gyro_eq))\n",
      "data_target = np.append( np.zeros(len(eu_dist_accel_rest) + len(eu_dist_accel_move), dtype=np.int), np.full(len(eu_dist_accel_eq),1,np.int))\n",
      "\n",
      "# A random permutation, to split the data randomly\n",
      "np.random.seed(0)\n",
      "indices = np.random.permutation(len(data_features))\n",
      "X_train = data_features[indices[:-10]]\n",
      "y_train = data_target[indices[:-10]]\n",
      "X_test  = data_features[indices[-10:]]\n",
      "y_test  = data_target[indices[-10:]]\n",
      "# Create and fit a decision tree classifier\n",
      "from sklearn import tree\n",
      "clf = tree.DecisionTreeClassifier()\n",
      "clf.fit(X_train, y_train)\n",
      "print \"Predicted values: \", clf.predict(X_test)\n",
      "print \"Real values: \", y_test\n",
      "\n",
      "# Let's see how efficient is our model using cross validation 5 times\n",
      "from sklearn import cross_validation\n",
      "from IPython.display import HTML\n",
      "scores = cross_validation.cross_val_score(clf, data_features, data_target, cv=5)\n",
      "h = HTML(\"<h2>Accuracy: %0.2f (+/- %0.2f)</h2>\" % (scores.mean(), scores.std() * 2))\n",
      "h\n"
     ],
     "language": "python",
     "metadata": {
      "slideshow": {
       "slide_type": "skip"
      }
     },
     "outputs": [
      {
       "output_type": "stream",
       "stream": "stdout",
       "text": [
        "Predicted values:  [0 0 0 0 0 0 0 0 0 0]\n",
        "Real values:  [0 0 0 0 0 0 0 0 0 0]\n"
       ]
      },
      {
       "html": [
        "<h2>Accuracy: 0.94 (+/- 0.16)</h2>"
       ],
       "metadata": {},
       "output_type": "pyout",
       "prompt_number": 6,
       "text": [
        "<IPython.core.display.HTML at 0x40eb0d0>"
       ]
      }
     ],
     "prompt_number": 6
    },
    {
     "cell_type": "markdown",
     "metadata": {
      "slideshow": {
       "slide_type": "slide"
      }
     },
     "source": [
      "<h2>Design approach</h2>"
     ]
    },
    {
     "cell_type": "markdown",
     "metadata": {
      "slideshow": {
       "slide_type": "fragment"
      }
     },
     "source": [
      "<li>Java - Quick ramp up, but bad support for data management</li>"
     ]
    },
    {
     "cell_type": "markdown",
     "metadata": {
      "slideshow": {
       "slide_type": "fragment"
      }
     },
     "source": [
      "<li>Scala - Great data management support, but not so performant (though is the first language for Spark)</li>"
     ]
    },
    {
     "cell_type": "markdown",
     "metadata": {
      "slideshow": {
       "slide_type": "fragment"
      }
     },
     "source": [
      "<li>Python using Hadoop streaming - Best in data management, but limited functionality with Hadoop</li>\n",
      "</ul>"
     ]
    },
    {
     "cell_type": "markdown",
     "metadata": {
      "slideshow": {
       "slide_type": "slide"
      }
     },
     "source": [
      "<h2>Day 90!</h2>\n",
      "\n",
      "We did it:\n",
      "* Defined a problem\n",
      "* Loaded and identified data format\n",
      "* Got understanding of the data\n",
      "* Worked with a Data Scientist\n",
      "* Implemented the first model"
     ]
    },
    {
     "cell_type": "markdown",
     "metadata": {
      "slideshow": {
       "slide_type": "fragment"
      }
     },
     "source": [
      "<h2 align=\"center\">Have we answered the question?</h2>"
     ]
    },
    {
     "cell_type": "markdown",
     "metadata": {
      "slideshow": {
       "slide_type": "slide"
      }
     },
     "source": [
      "<h2>Iterate!</h2>\n",
      "\n",
      "... and keep trying.\n",
      "\n",
      "<center><img src=\"assets/pics/edison.jpg\"></center>\n",
      "\n",
      "<blockquote>\"I have not failed 999 times. I have simply found 999 ways how not to create a light bulb\"</blockquote>"
     ]
    }
   ],
   "metadata": {}
  }
 ]
}